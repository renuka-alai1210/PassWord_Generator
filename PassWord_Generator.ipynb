{
 "cells": [
  {
   "cell_type": "markdown",
   "metadata": {},
   "source": [
    "# PassWord Generator"
   ]
  },
  {
   "cell_type": "code",
   "execution_count": 1,
   "metadata": {},
   "outputs": [],
   "source": [
    "import string\n",
    "import random"
   ]
  },
  {
   "cell_type": "code",
   "execution_count": 15,
   "metadata": {},
   "outputs": [
    {
     "name": "stdout",
     "output_type": "stream",
     "text": [
      "Enter the password length:\n",
      "10\n",
      "^f~4i/L6hj\n"
     ]
    }
   ],
   "source": [
    "def gen():\n",
    "    s1 = string.ascii_uppercase\n",
    "#     print(s1)\n",
    "    \n",
    "    s2 = string.ascii_lowercase\n",
    "#     print(s2)\n",
    "    \n",
    "    s3 = string.digits\n",
    "#     print(s3)\n",
    "    \n",
    "    s4 = string.punctuation\n",
    "#     print(s4)\n",
    "    \n",
    "    passlen = int(input('Enter the password length:\\n'))\n",
    "    s=[]\n",
    "    s.extend(list(s1))\n",
    "    s.extend(list(s2))\n",
    "    s.extend(list(s3))\n",
    "    s.extend(list(s4))\n",
    "    \n",
    "#     print(s)\n",
    "    random.shuffle(s)\n",
    "    pas= (\"\".join(s[0:passlen]))\n",
    "    print(pas)\n",
    "gen()"
   ]
  },
  {
   "cell_type": "code",
   "execution_count": null,
   "metadata": {},
   "outputs": [],
   "source": []
  },
  {
   "cell_type": "code",
   "execution_count": null,
   "metadata": {},
   "outputs": [],
   "source": []
  }
 ],
 "metadata": {
  "kernelspec": {
   "display_name": "Python 3",
   "language": "python",
   "name": "python3"
  },
  "language_info": {
   "codemirror_mode": {
    "name": "ipython",
    "version": 3
   },
   "file_extension": ".py",
   "mimetype": "text/x-python",
   "name": "python",
   "nbconvert_exporter": "python",
   "pygments_lexer": "ipython3",
   "version": "3.8.10"
  }
 },
 "nbformat": 4,
 "nbformat_minor": 4
}
